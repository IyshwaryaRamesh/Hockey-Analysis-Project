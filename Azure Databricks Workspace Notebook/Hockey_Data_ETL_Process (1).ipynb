{
 "cells": [
  {
   "cell_type": "code",
   "execution_count": 0,
   "metadata": {
    "application/vnd.databricks.v1+cell": {
     "cellMetadata": {
      "byteLimit": 2048000,
      "rowLimit": 10000
     },
     "inputWidgets": {},
     "nuid": "afa508bc-2b50-4e5d-ac0e-93fc6fcbb0b1",
     "showTitle": false,
     "tableResultSettingsMap": {},
     "title": ""
    },
    "id": "_45GaSmSXDs4"
   },
   "outputs": [
    {
     "output_type": "execute_result",
     "data": {
      "text/plain": [
       "True"
      ]
     },
     "execution_count": 1,
     "metadata": {},
     "output_type": "execute_result"
    }
   ],
   "source": [
    "# output mount point generation\n",
    "configs = {\n",
    "  \"fs.azure.account.key.adlsstoragehockey.blob.core.windows.net\": \"clFz+IqyE3a2urx/PnxFLcfk8vwUclZTGvY9GcGjVzI+t2/d6RSpUjGqaHIhEUyahCPGtmF+d4zL+AStz2XpCQ==\"\n",
    "}\n",
    "dbutils.fs.mount(\n",
    "  source = \"wasbs://output@adlsstoragehockey.blob.core.windows.net/\",\n",
    "  mount_point = \"/mnt/mount2\",\n",
    "  extra_configs=configs\n",
    ")"
   ]
  },
  {
   "cell_type": "code",
   "execution_count": 0,
   "metadata": {
    "application/vnd.databricks.v1+cell": {
     "cellMetadata": {
      "byteLimit": 2048000,
      "rowLimit": 10000
     },
     "inputWidgets": {},
     "nuid": "b04b2d9f-7f66-4979-9fb8-d1801c7af4a2",
     "showTitle": false,
     "tableResultSettingsMap": {},
     "title": ""
    }
   },
   "outputs": [
    {
     "output_type": "stream",
     "name": "stdout",
     "output_type": "stream",
     "text": [
      "+----+--------+-------------+-----------+---------+------------+--------+---------+---------+-----------+-----------+------------+------------+-----------+---------------+----------+--------------+-----------+--------+-----------+-----------------------+-------------+------------------+---------+\n|Year|   Month|        Match|Player Name|Club Name|country Name|Position|Jersey_No| D. O. B.|Nationality|appearances|goals scored|goals assist|total shots|shots on target|fouls made|fouls suffered|yellow card|red card|goals saved|goals conceded(stopped)|total penalty|successful penalty|   salary|\n+----+--------+-------------+-----------+---------+------------+--------+---------+---------+-----------+-----------+------------+------------+-----------+---------------+----------+--------------+-----------+--------+-----------+-----------------------+-------------+------------------+---------+\n|2010| January|International|     Adrian|       NA| Netherlands|      LW|       88|30-Mar-85|Netherlands|          8|           8|           3|         67|             49|         8|             0|          0|       0|         29|                     23|            2|                 1|$2,424.88|\n|2010|February|International|     Adrian|       NA| Netherlands|      LW|       88|30-Mar-85|Netherlands|          8|           7|           8|         77|             44|         3|             5|          4|       2|         19|                     21|            0|                 0|$2,424.88|\n|2010|   March|International|     Adrian|       NA| Netherlands|      LW|       88|30-Mar-85|Netherlands|          8|           7|           5|         59|             45|        11|             7|          1|       1|         26|                     15|            0|                 0|$2,424.88|\n+----+--------+-------------+-----------+---------+------------+--------+---------+---------+-----------+-----------+------------+------------+-----------+---------------+----------+--------------+-----------+--------+-----------+-----------------------+-------------+------------------+---------+\nonly showing top 3 rows\n\n+----+----------+-----------+------------------+-----+------------+-----------+----------+-----------+----+-----+-----+------------+---------+\n|Year|Match_Name|League_Name|         Club_Name|Coach|Country Name|    Manager|     Owner|appearances|wins|losts|drawn|clean sheets|Net Worth|\n+----+----------+-----------+------------------+-----+------------+-----------+----------+-----------+----+-----+-----+------------+---------+\n|2010|      Club|    LA Liga| Atheletico Madrid|   NA|          NA|Alvin Lucas|Dean Green|          8|   7|    0|    1|           5|$745,634 |\n|2010|      Club|    LA Liga| Atheletico Madrid|   NA|          NA|Alvin Lucas|Dean Green|          8|   2|    1|    5|           1|$745,634 |\n|2010|      Club|    LA Liga| Atheletico Madrid|   NA|          NA|Alvin Lucas|Dean Green|          8|   6|    1|    1|           3|$745,634 |\n+----+----------+-----------+------------------+-----+------------+-----------+----------+-----------+----+-----+-----+------------+---------+\nonly showing top 3 rows\n\n+--------+-------------------+-----------+----------------+---------------+---------+----------+------------+----------------+----------------+-------------------+-------------------+--------+-----------------+----------+------------+-------+-------+------+------------+--------------+-----------+----------------------+----------------------+\n|date_key|          full_date|day_of_week|day_num_in_month|day_num_overall| day_name|day_abbrev|weekday_flag|week_num_in_year|week_num_overall|    week_begin_date|week_begin_date_key|fb_month|month_num_overall|month_name|month_abbrev|quarter|fb_year|yearmo|fiscal_month|fiscal_quarter|fiscal_year|last_day_in_month_flag|same_day_year_ago_date|\n+--------+-------------------+-----------+----------------+---------------+---------+----------+------------+----------------+----------------+-------------------+-------------------+--------+-----------------+----------+------------+-------+-------+------+------------+--------------+-----------+----------------------+----------------------+\n|20080101|2008-01-01 00:00:00|          2|               1|              1|  Tuesday|       Tue|           y|               1|               1|2007-12-31 00:00:00|           20071231|       1|                1|   January|         Jan|      1|   2008|200801|          10|             4|       2008|                     n|   2007-01-01 00:00:00|\n|20080102|2008-01-02 00:00:00|          3|               2|              2|Wednesday|       Wed|           y|               1|               1|2007-12-31 00:00:00|           20071231|       1|                1|   January|         Jan|      1|   2008|200801|          10|             4|       2008|                     n|   2007-01-02 00:00:00|\n|20080103|2008-01-03 00:00:00|          4|               3|              3| Thursday|       Thu|           y|               1|               1|2007-12-31 00:00:00|           20071231|       1|                1|   January|         Jan|      1|   2008|200801|          10|             4|       2008|                     n|   2007-01-03 00:00:00|\n+--------+-------------------+-----------+----------------+---------------+---------+----------+------------+----------------+----------------+-------------------+-------------------+--------+-----------------+----------+------------+-------+-------+------+------------+--------------+-----------+----------------------+----------------------+\nonly showing top 3 rows\n\n"
     ]
    }
   ],
   "source": [
    "df_src1 = spark.read.option(\"header\", True).csv(\"/mnt/mount1/Hockey_Src1.csv\")\n",
    "df_src2 = spark.read.option(\"header\", True).csv(\"/mnt/mount1/Hockey_Src2.csv\")\n",
    "df_date = spark.read.option(\"header\", True).csv(\"/mnt/mount1/DIM.Date.Table.csv\")\n",
    "\n",
    "df_src1.show(3)\n",
    "df_src2.show(3)\n",
    "df_date.show(3)"
   ]
  },
  {
   "cell_type": "code",
   "execution_count": 0,
   "metadata": {
    "application/vnd.databricks.v1+cell": {
     "cellMetadata": {
      "byteLimit": 2048000,
      "rowLimit": 10000
     },
     "inputWidgets": {},
     "nuid": "e250eaa4-9146-4615-8bce-3b4bd3a2db9e",
     "showTitle": false,
     "tableResultSettingsMap": {},
     "title": ""
    },
    "id": "9ZIpkBCVXMx3"
   },
   "outputs": [],
   "source": [
    "from pyspark.sql.functions import row_number, col\n",
    "from pyspark.sql.window import Window"
   ]
  },
  {
   "cell_type": "code",
   "execution_count": 0,
   "metadata": {
    "application/vnd.databricks.v1+cell": {
     "cellMetadata": {
      "byteLimit": 2048000,
      "rowLimit": 10000
     },
     "inputWidgets": {},
     "nuid": "0ea04367-616c-4b8d-a3a7-91a55d07dbdf",
     "showTitle": false,
     "tableResultSettingsMap": {},
     "title": ""
    }
   },
   "outputs": [
    {
     "output_type": "stream",
     "name": "stdout",
     "output_type": "stream",
     "text": [
      "root\n |-- Year: string (nullable = true)\n |-- Month: string (nullable = true)\n |-- Match: string (nullable = true)\n |-- Player Name: string (nullable = true)\n |-- Club Name: string (nullable = true)\n |-- country Name: string (nullable = true)\n |-- Position: string (nullable = true)\n |-- Jersey_No: string (nullable = true)\n |-- D. O. B.: string (nullable = true)\n |-- Nationality: string (nullable = true)\n |-- appearances: string (nullable = true)\n |-- goals scored: string (nullable = true)\n |-- goals assist: string (nullable = true)\n |-- total shots: string (nullable = true)\n |-- shots on target: string (nullable = true)\n |-- fouls made: string (nullable = true)\n |-- fouls suffered: string (nullable = true)\n |-- yellow card: string (nullable = true)\n |-- red card: string (nullable = true)\n |-- goals saved: string (nullable = true)\n |-- goals conceded(stopped): string (nullable = true)\n |-- total penalty: string (nullable = true)\n |-- successful penalty: string (nullable = true)\n |-- salary: string (nullable = true)\n\n"
     ]
    }
   ],
   "source": [
    "df_src1.printSchema()\n"
   ]
  },
  {
   "cell_type": "code",
   "execution_count": 0,
   "metadata": {
    "application/vnd.databricks.v1+cell": {
     "cellMetadata": {
      "byteLimit": 2048000,
      "rowLimit": 10000
     },
     "inputWidgets": {},
     "nuid": "0d11b54f-39fb-412a-a9dd-0434c48bef69",
     "showTitle": false,
     "tableResultSettingsMap": {},
     "title": ""
    }
   },
   "outputs": [
    {
     "output_type": "stream",
     "name": "stdout",
     "output_type": "stream",
     "text": [
      "root\n |-- Year: string (nullable = true)\n |-- Match_Name: string (nullable = true)\n |-- League_Name: string (nullable = true)\n |-- Club_Name: string (nullable = true)\n |-- Coach: string (nullable = true)\n |-- Country Name: string (nullable = true)\n |-- Manager: string (nullable = true)\n |-- Owner: string (nullable = true)\n |-- appearances: string (nullable = true)\n |-- wins: string (nullable = true)\n |-- losts: string (nullable = true)\n |-- drawn: string (nullable = true)\n |-- clean sheets: string (nullable = true)\n |-- Net Worth: string (nullable = true)\n\n"
     ]
    }
   ],
   "source": [
    "df_src2.printSchema()"
   ]
  },
  {
   "cell_type": "code",
   "execution_count": 0,
   "metadata": {
    "application/vnd.databricks.v1+cell": {
     "cellMetadata": {
      "byteLimit": 2048000,
      "rowLimit": 10000
     },
     "inputWidgets": {},
     "nuid": "03f972e9-7964-415e-ac79-d845d240bb2f",
     "showTitle": false,
     "tableResultSettingsMap": {},
     "title": ""
    }
   },
   "outputs": [
    {
     "output_type": "stream",
     "name": "stdout",
     "output_type": "stream",
     "text": [
      "root\n |-- date_key: string (nullable = true)\n |-- full_date: string (nullable = true)\n |-- day_of_week: string (nullable = true)\n |-- day_num_in_month: string (nullable = true)\n |-- day_num_overall: string (nullable = true)\n |-- day_name: string (nullable = true)\n |-- day_abbrev: string (nullable = true)\n |-- weekday_flag: string (nullable = true)\n |-- week_num_in_year: string (nullable = true)\n |-- week_num_overall: string (nullable = true)\n |-- week_begin_date: string (nullable = true)\n |-- week_begin_date_key: string (nullable = true)\n |-- fb_month: string (nullable = true)\n |-- month_num_overall: string (nullable = true)\n |-- month_name: string (nullable = true)\n |-- month_abbrev: string (nullable = true)\n |-- quarter: string (nullable = true)\n |-- fb_year: string (nullable = true)\n |-- yearmo: string (nullable = true)\n |-- fiscal_month: string (nullable = true)\n |-- fiscal_quarter: string (nullable = true)\n |-- fiscal_year: string (nullable = true)\n |-- last_day_in_month_flag: string (nullable = true)\n |-- same_day_year_ago_date: string (nullable = true)\n\n"
     ]
    }
   ],
   "source": [
    "df_date.printSchema()"
   ]
  },
  {
   "cell_type": "code",
   "execution_count": 0,
   "metadata": {
    "application/vnd.databricks.v1+cell": {
     "cellMetadata": {
      "byteLimit": 2048000,
      "rowLimit": 10000
     },
     "inputWidgets": {},
     "nuid": "3a5bcf4a-2215-48b2-b478-5f2b7b794d2f",
     "showTitle": false,
     "tableResultSettingsMap": {},
     "title": ""
    },
    "id": "I_U8RWkPYk2g"
   },
   "outputs": [],
   "source": [
    "# League Dimention\n",
    "df_league = df_src2.select(\"League_Name\").distinct()\n",
    "\n",
    "window_spec = Window.orderBy(\"League_Name\")\n",
    "dim_league = df_league.withColumn(\"League_ID\", row_number().over(window_spec))\n",
    "\n",
    "dim_league.write.option(\"header\", True).mode(\"overwrite\").csv(\"/mnt/mount2/dim_league\")"
   ]
  },
  {
   "cell_type": "code",
   "execution_count": 0,
   "metadata": {
    "application/vnd.databricks.v1+cell": {
     "cellMetadata": {
      "byteLimit": 2048000,
      "rowLimit": 10000
     },
     "inputWidgets": {},
     "nuid": "9d160a94-0c64-47ef-961b-801156ad0cf3",
     "showTitle": false,
     "tableResultSettingsMap": {},
     "title": ""
    },
    "id": "a2SAhMVPYnm4"
   },
   "outputs": [],
   "source": [
    "# Club Dimension\n",
    "# Unique Club + League + Manager + Owner\n",
    "df_club = df_src2.select(\"Club_Name\", \"League_Name\", \"Manager\", \"Owner\").distinct()\n",
    "\n",
    "# Join League to get League_ID\n",
    "dim_club = df_club.join(dim_league, on=\"League_Name\", how=\"left\")\n",
    "\n",
    "# Add Club_ID\n",
    "window_spec = Window.orderBy(\"Club_Name\")\n",
    "dim_club = dim_club.withColumn(\"Club_ID\", row_number().over(window_spec))\n",
    "\n",
    "dim_club.write.option(\"header\", True).mode(\"overwrite\").csv(\"/mnt/mount2/dim_club\")"
   ]
  },
  {
   "cell_type": "code",
   "execution_count": 0,
   "metadata": {
    "application/vnd.databricks.v1+cell": {
     "cellMetadata": {
      "byteLimit": 2048000,
      "rowLimit": 10000
     },
     "inputWidgets": {},
     "nuid": "2c067f6c-8ea5-4690-b387-30a51656af8c",
     "showTitle": false,
     "tableResultSettingsMap": {},
     "title": ""
    },
    "id": "6gP63CCFYpWl"
   },
   "outputs": [],
   "source": [
    "# Country Dimension\n",
    "# Combine from both sources and Coach\n",
    "df_country_1 = df_src1.select(col(\"country Name\").alias(\"Country_Name\"))\n",
    "df_country_2 = df_src2.select(col(\"Country Name\").alias(\"Country_Name\"), \"Coach\")\n",
    "df_country = df_country_1.union(df_country_2.select(\"Country_Name\")).distinct()\n",
    "\n",
    "# Join with coach info\n",
    "df_country = df_country.join(df_country_2, on=\"Country_Name\", how=\"left\").dropDuplicates([\"Country_Name\"])\n",
    "\n",
    "# Add ID\n",
    "window_spec = Window.orderBy(\"Country_Name\")\n",
    "dim_country = df_country.withColumn(\"Country_ID\", row_number().over(window_spec))\n",
    "\n",
    "dim_country.write.option(\"header\", True).mode(\"overwrite\").csv(\"/mnt/mount2/dim_country\")"
   ]
  },
  {
   "cell_type": "code",
   "execution_count": 0,
   "metadata": {
    "application/vnd.databricks.v1+cell": {
     "cellMetadata": {
      "byteLimit": 2048000,
      "rowLimit": 10000
     },
     "inputWidgets": {},
     "nuid": "03113b06-6368-4dea-9581-dbfe67f8f3f4",
     "showTitle": false,
     "tableResultSettingsMap": {},
     "title": ""
    },
    "id": "rjSPZ5xBYrkw"
   },
   "outputs": [],
   "source": [
    "# Match Type Dimension\n",
    "df_match = df_src2.select(\"Match_Name\").distinct()\n",
    "\n",
    "window_spec = Window.orderBy(\"Match_Name\")\n",
    "dim_match_type = df_match.withColumn(\"Match_Type_ID\", row_number().over(window_spec))\n",
    "\n",
    "dim_match_type.write.option(\"header\", True).mode(\"overwrite\").csv(\"/mnt/mount2/dim_match_type\")"
   ]
  },
  {
   "cell_type": "code",
   "execution_count": 0,
   "metadata": {
    "application/vnd.databricks.v1+cell": {
     "cellMetadata": {
      "byteLimit": 2048000,
      "rowLimit": 10000
     },
     "inputWidgets": {},
     "nuid": "877b01df-fa4b-48c7-9475-b9d57edb2023",
     "showTitle": false,
     "tableResultSettingsMap": {},
     "title": ""
    },
    "id": "o4R8jc_JYt1h"
   },
   "outputs": [],
   "source": [
    "# Player Dimension\n",
    "# Select required columns from df_src1\n",
    "player_df = df_src1.select(\n",
    "    \"Player Name\", col(\"Club Name\").alias(\"Club_Name\"), col(\"country Name\").alias(\"Country_Name\"),\n",
    "    \"Position\", col(\"Jersey_No\").alias(\"Jersey_Number\"),\n",
    "    col(\"`D. O. B.`\").alias(\"DOB\"),    # FIXED LINE\n",
    "    \"Nationality\"\n",
    ").distinct()\n",
    "\n",
    "# Join with dim_club and dim_country to get IDs\n",
    "dim_player = player_df.join(dim_club.select(\"Club_ID\", \"Club_Name\"), on=\"Club_Name\", how=\"left\") \\\n",
    "                      .join(dim_country.select(\"Country_ID\", \"Country_Name\"), on=\"Country_Name\", how=\"left\")\n",
    "\n",
    "# Add Player_ID\n",
    "from pyspark.sql.window import Window\n",
    "window_spec = Window.orderBy(\"Player Name\")\n",
    "dim_player = dim_player.withColumn(\"Player_ID\", row_number().over(window_spec))\n",
    "\n",
    "# Write to ADLS\n",
    "dim_player.write.option(\"header\", True).mode(\"overwrite\").csv(\"/mnt/mount2/dim_player\")"
   ]
  },
  {
   "cell_type": "code",
   "execution_count": 0,
   "metadata": {
    "application/vnd.databricks.v1+cell": {
     "cellMetadata": {
      "byteLimit": 2048000,
      "rowLimit": 10000
     },
     "inputWidgets": {},
     "nuid": "e1a6d6f4-11f9-4540-aa69-7dbe3fa3d64a",
     "showTitle": false,
     "tableResultSettingsMap": {},
     "title": ""
    },
    "id": "MfQixuLJYwGh"
   },
   "outputs": [],
   "source": [
    "# Time Dimension\n",
    "# Select only required columns\n",
    "dim_time = df_date.select(\n",
    "    col(\"date_key\").alias(\"Date_Key\"),\n",
    "    col(\"fb_year\").alias(\"Year\"),\n",
    "    col(\"quarter\").alias(\"Quarter\"),\n",
    "    col(\"fb_month\").alias(\"Month\")\n",
    ").distinct()\n",
    "\n",
    "# Add Time_ID\n",
    "window_spec = Window.orderBy(\"Date_Key\")\n",
    "dim_time = dim_time.withColumn(\"Time_ID\", row_number().over(window_spec))\n",
    "\n",
    "dim_time.write.option(\"header\", True).mode(\"overwrite\").csv(\"/mnt/mount2/dim_time\")"
   ]
  }
 ],
 "metadata": {
  "application/vnd.databricks.v1+notebook": {
   "computePreferences": null,
   "dashboards": [],
   "environmentMetadata": null,
   "inputWidgetPreferences": null,
   "language": "python",
   "notebookMetadata": {
    "pythonIndentUnit": 4
   },
   "notebookName": "Hockey_Data_ETL_Process",
   "widgets": {}
  },
  "colab": {
   "provenance": []
  },
  "kernelspec": {
   "display_name": "Python 3",
   "name": "python3"
  },
  "language_info": {
   "name": "python"
  }
 },
 "nbformat": 4,
 "nbformat_minor": 0
}