{
 "cells": [
  {
   "cell_type": "markdown",
   "metadata": {
    "application/vnd.databricks.v1+cell": {
     "cellMetadata": {},
     "inputWidgets": {},
     "nuid": "9786fe6c-ab2f-4a10-afda-9091949b753d",
     "showTitle": false,
     "tableResultSettingsMap": {},
     "title": ""
    }
   },
   "source": [
    "FACT TABLE\n"
   ]
  },
  {
   "cell_type": "code",
   "execution_count": 0,
   "metadata": {
    "application/vnd.databricks.v1+cell": {
     "cellMetadata": {
      "byteLimit": 2048000,
      "rowLimit": 10000
     },
     "inputWidgets": {},
     "nuid": "fbc398f9-a7ae-47ef-8d38-5fcd07783a7d",
     "showTitle": false,
     "tableResultSettingsMap": {},
     "title": ""
    }
   },
   "outputs": [],
   "source": [
    "from pyspark.sql.functions import col, row_number\n",
    "from pyspark.sql.window import Window"
   ]
  },
  {
   "cell_type": "code",
   "execution_count": 0,
   "metadata": {
    "application/vnd.databricks.v1+cell": {
     "cellMetadata": {
      "byteLimit": 2048000,
      "rowLimit": 10000
     },
     "inputWidgets": {},
     "nuid": "49c3832d-9ac6-43d5-b7e1-9461c60460c5",
     "showTitle": false,
     "tableResultSettingsMap": {},
     "title": ""
    }
   },
   "outputs": [],
   "source": [
    "dim_time = spark.read.option(\"header\", True).csv(\"/mnt/mount2/dim_time\")"
   ]
  },
  {
   "cell_type": "code",
   "execution_count": 0,
   "metadata": {
    "application/vnd.databricks.v1+cell": {
     "cellMetadata": {
      "byteLimit": 2048000,
      "rowLimit": 10000
     },
     "inputWidgets": {},
     "nuid": "56b70eef-d149-45a2-b791-20497a1de272",
     "showTitle": false,
     "tableResultSettingsMap": {},
     "title": ""
    }
   },
   "outputs": [],
   "source": [
    "dim_club = spark.read.option(\"header\", True).csv(\"/mnt/mount2/dim_club\")\n",
    "dim_country = spark.read.option(\"header\", True).csv(\"/mnt/mount2/dim_country\")\n",
    "dim_match_type = spark.read.option(\"header\", True).csv(\"/mnt/mount2/dim_match_type\")\n",
    "dim_player = spark.read.option(\"header\", True).csv(\"/mnt/mount2/dim_player\")"
   ]
  },
  {
   "cell_type": "code",
   "execution_count": 0,
   "metadata": {
    "application/vnd.databricks.v1+cell": {
     "cellMetadata": {
      "byteLimit": 2048000,
      "rowLimit": 10000
     },
     "inputWidgets": {},
     "nuid": "4548c4ae-73be-4aaf-bdf3-886ca0e6c83a",
     "showTitle": false,
     "tableResultSettingsMap": {},
     "title": ""
    }
   },
   "outputs": [],
   "source": [
    "dim_league = spark.read.option(\"header\", True).csv(\"/mnt/mount2/dim_league\")"
   ]
  },
  {
   "cell_type": "code",
   "execution_count": 0,
   "metadata": {
    "application/vnd.databricks.v1+cell": {
     "cellMetadata": {
      "byteLimit": 2048000,
      "rowLimit": 10000
     },
     "inputWidgets": {},
     "nuid": "de8b13e0-2636-425f-ac53-4e1869335738",
     "showTitle": false,
     "tableResultSettingsMap": {},
     "title": ""
    }
   },
   "outputs": [
    {
     "output_type": "stream",
     "name": "stdout",
     "output_type": "stream",
     "text": [
      "+----+--------+-------------+-----------+---------+------------+--------+---------+---------+-----------+-----------+------------+------------+-----------+---------------+----------+--------------+-----------+--------+-----------+-----------------------+-------------+------------------+---------+\n|Year|   Month|        Match|Player Name|Club Name|country Name|Position|Jersey_No| D. O. B.|Nationality|appearances|goals scored|goals assist|total shots|shots on target|fouls made|fouls suffered|yellow card|red card|goals saved|goals conceded(stopped)|total penalty|successful penalty|   salary|\n+----+--------+-------------+-----------+---------+------------+--------+---------+---------+-----------+-----------+------------+------------+-----------+---------------+----------+--------------+-----------+--------+-----------+-----------------------+-------------+------------------+---------+\n|2010| January|International|     Adrian|       NA| Netherlands|      LW|       88|30-Mar-85|Netherlands|          8|           8|           3|         67|             49|         8|             0|          0|       0|         29|                     23|            2|                 1|$2,424.88|\n|2010|February|International|     Adrian|       NA| Netherlands|      LW|       88|30-Mar-85|Netherlands|          8|           7|           8|         77|             44|         3|             5|          4|       2|         19|                     21|            0|                 0|$2,424.88|\n|2010|   March|International|     Adrian|       NA| Netherlands|      LW|       88|30-Mar-85|Netherlands|          8|           7|           5|         59|             45|        11|             7|          1|       1|         26|                     15|            0|                 0|$2,424.88|\n+----+--------+-------------+-----------+---------+------------+--------+---------+---------+-----------+-----------+------------+------------+-----------+---------------+----------+--------------+-----------+--------+-----------+-----------------------+-------------+------------------+---------+\nonly showing top 3 rows\n\n+----+----------+-----------+------------------+-----+------------+-----------+----------+-----------+----+-----+-----+------------+---------+\n|Year|Match_Name|League_Name|         Club_Name|Coach|Country Name|    Manager|     Owner|appearances|wins|losts|drawn|clean sheets|Net Worth|\n+----+----------+-----------+------------------+-----+------------+-----------+----------+-----------+----+-----+-----+------------+---------+\n|2010|      Club|    LA Liga| Atheletico Madrid|   NA|          NA|Alvin Lucas|Dean Green|          8|   7|    0|    1|           5|$745,634 |\n|2010|      Club|    LA Liga| Atheletico Madrid|   NA|          NA|Alvin Lucas|Dean Green|          8|   2|    1|    5|           1|$745,634 |\n|2010|      Club|    LA Liga| Atheletico Madrid|   NA|          NA|Alvin Lucas|Dean Green|          8|   6|    1|    1|           3|$745,634 |\n+----+----------+-----------+------------------+-----+------------+-----------+----------+-----------+----+-----+-----+------------+---------+\nonly showing top 3 rows\n\n+--------+-------------------+-----------+----------------+---------------+---------+----------+------------+----------------+----------------+-------------------+-------------------+--------+-----------------+----------+------------+-------+-------+------+------------+--------------+-----------+----------------------+----------------------+\n|date_key|          full_date|day_of_week|day_num_in_month|day_num_overall| day_name|day_abbrev|weekday_flag|week_num_in_year|week_num_overall|    week_begin_date|week_begin_date_key|fb_month|month_num_overall|month_name|month_abbrev|quarter|fb_year|yearmo|fiscal_month|fiscal_quarter|fiscal_year|last_day_in_month_flag|same_day_year_ago_date|\n+--------+-------------------+-----------+----------------+---------------+---------+----------+------------+----------------+----------------+-------------------+-------------------+--------+-----------------+----------+------------+-------+-------+------+------------+--------------+-----------+----------------------+----------------------+\n|20080101|2008-01-01 00:00:00|          2|               1|              1|  Tuesday|       Tue|           y|               1|               1|2007-12-31 00:00:00|           20071231|       1|                1|   January|         Jan|      1|   2008|200801|          10|             4|       2008|                     n|   2007-01-01 00:00:00|\n|20080102|2008-01-02 00:00:00|          3|               2|              2|Wednesday|       Wed|           y|               1|               1|2007-12-31 00:00:00|           20071231|       1|                1|   January|         Jan|      1|   2008|200801|          10|             4|       2008|                     n|   2007-01-02 00:00:00|\n|20080103|2008-01-03 00:00:00|          4|               3|              3| Thursday|       Thu|           y|               1|               1|2007-12-31 00:00:00|           20071231|       1|                1|   January|         Jan|      1|   2008|200801|          10|             4|       2008|                     n|   2007-01-03 00:00:00|\n+--------+-------------------+-----------+----------------+---------------+---------+----------+------------+----------------+----------------+-------------------+-------------------+--------+-----------------+----------+------------+-------+-------+------+------------+--------------+-----------+----------------------+----------------------+\nonly showing top 3 rows\n\n"
     ]
    }
   ],
   "source": [
    "df_src1 = spark.read.option(\"header\", True).csv(\"/mnt/mount1/Hockey_Src1.csv\")\n",
    "df_src2 = spark.read.option(\"header\", True).csv(\"/mnt/mount1/Hockey_Src2.csv\")\n",
    "df_date = spark.read.option(\"header\", True).csv(\"/mnt/mount1/DIM.Date.Table.csv\")\n",
    "\n",
    "df_src1.show(3)\n",
    "df_src2.show(3)\n",
    "df_date.show(3)"
   ]
  },
  {
   "cell_type": "code",
   "execution_count": 0,
   "metadata": {
    "application/vnd.databricks.v1+cell": {
     "cellMetadata": {
      "byteLimit": 2048000,
      "rowLimit": 10000
     },
     "inputWidgets": {},
     "nuid": "c8a13de0-f1db-4f0b-a71c-1fc8c6aef017",
     "showTitle": false,
     "tableResultSettingsMap": {},
     "title": ""
    }
   },
   "outputs": [],
   "source": [
    "# Join with Time\n",
    "fact_player = df_src1.join(dim_time.select(\"Time_ID\", \"Year\"), on=\"Year\", how=\"left\")\n",
    "\n",
    "# Join with Match Type\n",
    "fact_player = fact_player.join(dim_match_type.select(\"Match_Type_ID\", dim_match_type[\"Match_Name\"].alias(\"Match\")),\n",
    "                               on=\"Match\", how=\"left\")\n",
    "\n",
    "# Join with Player\n",
    "fact_player = fact_player.join(dim_player.select(\"Player_ID\", \"Player Name\"), on=\"Player Name\", how=\"left\")\n",
    "\n",
    "# Join with Club\n",
    "fact_player = fact_player.join(dim_club.select(\"Club_ID\", dim_club[\"Club_Name\"].alias(\"Club Name\")),\n",
    "                               on=\"Club Name\", how=\"left\")\n",
    "\n",
    "# Join with Country\n",
    "fact_player = fact_player.join(dim_country.select(\"Country_ID\", dim_country[\"Country_Name\"].alias(\"country Name\")),\n",
    "                               on=\"country Name\", how=\"left\")\n",
    "\n",
    "# Select required columns + Generate Fact_ID\n",
    "window_spec = Window.orderBy(\"Player_ID\")\n",
    "\n",
    "fact_player = fact_player.withColumn(\"Fact_ID\", row_number().over(window_spec)).select(\n",
    "    \"Fact_ID\", \"Time_ID\", \"Match_Type_ID\", \"Player_ID\", \"Club_ID\", \"Country_ID\",\n",
    "    col(\"appearances\").alias(\"Appearances\"),\n",
    "    col(\"goals scored\").alias(\"Goals_Scored\"),\n",
    "    col(\"goals assist\").alias(\"Goals_Assist\"),\n",
    "    col(\"total shots\").alias(\"Total_Shots\"),\n",
    "    col(\"shots on target\").alias(\"Shots_on_Target\"),\n",
    "    col(\"fouls made\").alias(\"Fouls_Made\"),\n",
    "    col(\"fouls suffered\").alias(\"Fouls_Suffered\"),\n",
    "    col(\"yellow card\").alias(\"Yellow_Card\"),\n",
    "    col(\"red card\").alias(\"Red_Card\"),\n",
    "    col(\"goals saved\").alias(\"Goals_Saved\"),\n",
    "    col(\"goals conceded(stopped)\").alias(\"Goals_Conceded\"),\n",
    "    col(\"total penalty\").alias(\"Total_Penalty\"),\n",
    "    col(\"successful penalty\").alias(\"Successful_Penalty\"),\n",
    "    col(\"salary\").alias(\"Salary\")\n",
    ")\n",
    "\n",
    "# Write to ADLS\n",
    "fact_player.write.option(\"header\", True).mode(\"overwrite\").csv(\"/mnt/mount2/fact_player_statistics\")"
   ]
  },
  {
   "cell_type": "code",
   "execution_count": 0,
   "metadata": {
    "application/vnd.databricks.v1+cell": {
     "cellMetadata": {
      "byteLimit": 2048000,
      "rowLimit": 10000
     },
     "inputWidgets": {},
     "nuid": "024196ea-a7ab-4624-8d3a-e0d0d12ce354",
     "showTitle": false,
     "tableResultSettingsMap": {},
     "title": ""
    }
   },
   "outputs": [],
   "source": [
    "# Join with Time\n",
    "fact_team = df_src2.join(dim_time.select(\"Time_ID\", \"Year\"), on=\"Year\", how=\"left\")\n",
    "\n",
    "# Match Type\n",
    "fact_team = fact_team.join(dim_match_type.select(\"Match_Type_ID\", dim_match_type[\"Match_Name\"]),\n",
    "                           on=\"Match_Name\", how=\"left\")\n",
    "\n",
    "# League\n",
    "fact_team = fact_team.join(dim_league.select(\"League_ID\", \"League_Name\"), on=\"League_Name\", how=\"left\")\n",
    "\n",
    "# Club\n",
    "fact_team = fact_team.join(dim_club.select(\"Club_ID\", \"Club_Name\"), on=\"Club_Name\", how=\"left\")\n",
    "\n",
    "# Country\n",
    "#fact_team = fact_team.join(dim_country.select(\"Country_ID\", \"Country_Name\"), on=\"Country_Name\", how=\"left\")\n",
    "fact_team = fact_team.withColumnRenamed(\"Country Name\", \"Country_Name\") \\\n",
    "                     .join(dim_country.select(\"Country_ID\", \"Country_Name\"), on=\"Country_Name\", how=\"left\")\n",
    "\n",
    "# Select required columns + Generate Fact_ID\n",
    "window_spec = Window.orderBy(\"Club_ID\")\n",
    "\n",
    "fact_team = fact_team.withColumn(\"Fact_ID\", row_number().over(window_spec)).select(\n",
    "    \"Fact_ID\", \"Time_ID\", \"Match_Type_ID\", \"League_ID\", \"Club_ID\", \"Country_ID\",\n",
    "    col(\"appearances\").alias(\"Appearances\"),\n",
    "    col(\"wins\").alias(\"Wins\"),\n",
    "    col(\"losts\").alias(\"Lost\"),\n",
    "    col(\"drawn\").alias(\"Drawn\"),\n",
    "    col(\"clean sheets\").alias(\"Clean_Sheets\"),\n",
    "    col(\"Net Worth\").alias(\"Net_Worth\")\n",
    ")\n",
    "\n",
    "# Write to ADLS\n",
    "fact_team.write.option(\"header\", True).mode(\"overwrite\").csv(\"/mnt/mount2/fact_team_statistics\")"
   ]
  }
 ],
 "metadata": {
  "application/vnd.databricks.v1+notebook": {
   "computePreferences": null,
   "dashboards": [],
   "environmentMetadata": {
    "base_environment": "",
    "environment_version": "2"
   },
   "inputWidgetPreferences": null,
   "language": "python",
   "notebookMetadata": {
    "pythonIndentUnit": 4
   },
   "notebookName": "Hockey_Data_ETL_Process_1",
   "widgets": {}
  },
  "language_info": {
   "name": "python"
  }
 },
 "nbformat": 4,
 "nbformat_minor": 0
}