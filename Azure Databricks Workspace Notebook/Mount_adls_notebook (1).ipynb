{
 "cells": [
  {
   "cell_type": "code",
   "execution_count": 0,
   "metadata": {
    "application/vnd.databricks.v1+cell": {
     "cellMetadata": {
      "byteLimit": 2048000,
      "rowLimit": 10000
     },
     "inputWidgets": {},
     "nuid": "2373bcf3-8424-4025-8146-b7d14f13e569",
     "showTitle": false,
     "tableResultSettingsMap": {},
     "title": ""
    },
    "id": "eKnebsJgP9AM"
   },
   "outputs": [
    {
     "output_type": "execute_result",
     "data": {
      "text/plain": [
       "True"
      ]
     },
     "execution_count": 3,
     "metadata": {},
     "output_type": "execute_result"
    }
   ],
   "source": [
    "# Configuration details\n",
    "storage_account_name = \"adlsstoragehockey\"\n",
    "storage_account_key = \"clFz+IqyE3a2urx/PnxFLcfk8vwUclZTGvY9GcGjVzI+t2/d6RSpUjGqaHIhEUyahCPGtmF+d4zL+AStz2XpCQ==\"\n",
    "\n",
    "# Replace with your storage account name and container\n",
    "configs = {\n",
    "  f\"fs.azure.account.key.adlsstoragehockey.blob.core.windows.net\": \"clFz+IqyE3a2urx/PnxFLcfk8vwUclZTGvY9GcGjVzI+t2/d6RSpUjGqaHIhEUyahCPGtmF+d4zL+AStz2XpCQ==\"\n",
    "}\n",
    "\n",
    "# Mount raw folder\n",
    "dbutils.fs.mount(\n",
    "  source = f\"wasbs://raw@adlsstoragehockey.blob.core.windows.net\",\n",
    "  mount_point = \"/mnt/mount1\",\n",
    "  extra_configs=configs)"
   ]
  },
  {
   "cell_type": "code",
   "execution_count": 0,
   "metadata": {
    "application/vnd.databricks.v1+cell": {
     "cellMetadata": {
      "byteLimit": 2048000,
      "rowLimit": 10000
     },
     "inputWidgets": {},
     "nuid": "ff375c0b-9dd9-48e7-9dfc-ac0bd84d4285",
     "showTitle": false,
     "tableResultSettingsMap": {},
     "title": ""
    },
    "id": "PXwqQ3e_Qy4G"
   },
   "outputs": [],
   "source": [
    "# Read Source 1\n",
    "df_src1 = spark.read.option(\"header\", True).csv(\"/mnt/mount1/Hockey_Src1.csv\")\n",
    "\n",
    "# Read Source 2\n",
    "df_src2 = spark.read.option(\"header\", True).csv(\"/mnt/mount1/Hockey_Src2.csv\")\n",
    "\n",
    "# Read Date Table\n",
    "df_date = spark.read.option(\"header\", True).csv(\"/mnt/mount1/DIM.Date.Table.csv\")"
   ]
  },
  {
   "cell_type": "code",
   "execution_count": 0,
   "metadata": {
    "application/vnd.databricks.v1+cell": {
     "cellMetadata": {
      "byteLimit": 2048000,
      "rowLimit": 10000
     },
     "inputWidgets": {},
     "nuid": "a0f44655-b36b-48f4-b101-9d45c7c9f7e7",
     "showTitle": false,
     "tableResultSettingsMap": {},
     "title": ""
    },
    "id": "ppV0P5PQQ5J-"
   },
   "outputs": [
    {
     "output_type": "stream",
     "name": "stdout",
     "output_type": "stream",
     "text": [
      "+----+--------+-------------+-----------+---------+------------+--------+---------+---------+-----------+-----------+------------+------------+-----------+---------------+----------+--------------+-----------+--------+-----------+-----------------------+-------------+------------------+---------+\n|Year|   Month|        Match|Player Name|Club Name|country Name|Position|Jersey_No| D. O. B.|Nationality|appearances|goals scored|goals assist|total shots|shots on target|fouls made|fouls suffered|yellow card|red card|goals saved|goals conceded(stopped)|total penalty|successful penalty|   salary|\n+----+--------+-------------+-----------+---------+------------+--------+---------+---------+-----------+-----------+------------+------------+-----------+---------------+----------+--------------+-----------+--------+-----------+-----------------------+-------------+------------------+---------+\n|2010| January|International|     Adrian|       NA| Netherlands|      LW|       88|30-Mar-85|Netherlands|          8|           8|           3|         67|             49|         8|             0|          0|       0|         29|                     23|            2|                 1|$2,424.88|\n|2010|February|International|     Adrian|       NA| Netherlands|      LW|       88|30-Mar-85|Netherlands|          8|           7|           8|         77|             44|         3|             5|          4|       2|         19|                     21|            0|                 0|$2,424.88|\n|2010|   March|International|     Adrian|       NA| Netherlands|      LW|       88|30-Mar-85|Netherlands|          8|           7|           5|         59|             45|        11|             7|          1|       1|         26|                     15|            0|                 0|$2,424.88|\n|2010|   April|International|     Adrian|       NA| Netherlands|      LW|       88|30-Mar-85|Netherlands|          8|          10|           8|         71|             50|         7|             0|          1|       2|         18|                     30|            3|                 3|$2,424.88|\n|2010|     May|International|     Adrian|       NA| Netherlands|      LW|       88|30-Mar-85|Netherlands|          8|          10|           3|         80|             45|        12|             2|          0|       1|         25|                     25|            5|                 3|$2,424.88|\n+----+--------+-------------+-----------+---------+------------+--------+---------+---------+-----------+-----------+------------+------------+-----------+---------------+----------+--------------+-----------+--------+-----------+-----------------------+-------------+------------------+---------+\nonly showing top 5 rows\n\n+----+----------+-----------+------------------+-----+------------+-----------+----------+-----------+----+-----+-----+------------+---------+\n|Year|Match_Name|League_Name|         Club_Name|Coach|Country Name|    Manager|     Owner|appearances|wins|losts|drawn|clean sheets|Net Worth|\n+----+----------+-----------+------------------+-----+------------+-----------+----------+-----------+----+-----+-----+------------+---------+\n|2010|      Club|    LA Liga| Atheletico Madrid|   NA|          NA|Alvin Lucas|Dean Green|          8|   7|    0|    1|           5|$745,634 |\n|2010|      Club|    LA Liga| Atheletico Madrid|   NA|          NA|Alvin Lucas|Dean Green|          8|   2|    1|    5|           1|$745,634 |\n|2010|      Club|    LA Liga| Atheletico Madrid|   NA|          NA|Alvin Lucas|Dean Green|          8|   6|    1|    1|           3|$745,634 |\n|2010|      Club|    LA Liga| Atheletico Madrid|   NA|          NA|Alvin Lucas|Dean Green|          8|   6|    1|    1|           4|$745,634 |\n|2010|      Club|    LA Liga| Atheletico Madrid|   NA|          NA|Alvin Lucas|Dean Green|          8|   4|    3|    1|           3|$745,634 |\n+----+----------+-----------+------------------+-----+------------+-----------+----------+-----------+----+-----+-----+------------+---------+\nonly showing top 5 rows\n\n+--------+-------------------+-----------+----------------+---------------+---------+----------+------------+----------------+----------------+-------------------+-------------------+--------+-----------------+----------+------------+-------+-------+------+------------+--------------+-----------+----------------------+----------------------+\n|date_key|          full_date|day_of_week|day_num_in_month|day_num_overall| day_name|day_abbrev|weekday_flag|week_num_in_year|week_num_overall|    week_begin_date|week_begin_date_key|fb_month|month_num_overall|month_name|month_abbrev|quarter|fb_year|yearmo|fiscal_month|fiscal_quarter|fiscal_year|last_day_in_month_flag|same_day_year_ago_date|\n+--------+-------------------+-----------+----------------+---------------+---------+----------+------------+----------------+----------------+-------------------+-------------------+--------+-----------------+----------+------------+-------+-------+------+------------+--------------+-----------+----------------------+----------------------+\n|20080101|2008-01-01 00:00:00|          2|               1|              1|  Tuesday|       Tue|           y|               1|               1|2007-12-31 00:00:00|           20071231|       1|                1|   January|         Jan|      1|   2008|200801|          10|             4|       2008|                     n|   2007-01-01 00:00:00|\n|20080102|2008-01-02 00:00:00|          3|               2|              2|Wednesday|       Wed|           y|               1|               1|2007-12-31 00:00:00|           20071231|       1|                1|   January|         Jan|      1|   2008|200801|          10|             4|       2008|                     n|   2007-01-02 00:00:00|\n|20080103|2008-01-03 00:00:00|          4|               3|              3| Thursday|       Thu|           y|               1|               1|2007-12-31 00:00:00|           20071231|       1|                1|   January|         Jan|      1|   2008|200801|          10|             4|       2008|                     n|   2007-01-03 00:00:00|\n|20080104|2008-01-04 00:00:00|          5|               4|              4|   Friday|       Fri|           y|               1|               1|2007-12-31 00:00:00|           20071231|       1|                1|   January|         Jan|      1|   2008|200801|          10|             4|       2008|                     n|   2007-01-04 00:00:00|\n|20080105|2008-01-05 00:00:00|          6|               5|              5| Saturday|       Sat|           n|               1|               1|2007-12-31 00:00:00|           20071231|       1|                1|   January|         Jan|      1|   2008|200801|          10|             4|       2008|                     n|   2007-01-05 00:00:00|\n+--------+-------------------+-----------+----------------+---------------+---------+----------+------------+----------------+----------------+-------------------+-------------------+--------+-----------------+----------+------------+-------+-------+------+------------+--------------+-----------+----------------------+----------------------+\nonly showing top 5 rows\n\n"
     ]
    }
   ],
   "source": [
    "df_src1.show(5)\n",
    "df_src2.show(5)\n",
    "df_date.show(5)"
   ]
  }
 ],
 "metadata": {
  "application/vnd.databricks.v1+notebook": {
   "computePreferences": null,
   "dashboards": [],
   "environmentMetadata": null,
   "inputWidgetPreferences": null,
   "language": "python",
   "notebookMetadata": {
    "pythonIndentUnit": 4
   },
   "notebookName": "Mount_adls_notebook",
   "widgets": {}
  },
  "colab": {
   "provenance": []
  },
  "kernelspec": {
   "display_name": "Python 3",
   "name": "python3"
  },
  "language_info": {
   "name": "python"
  }
 },
 "nbformat": 4,
 "nbformat_minor": 0
}