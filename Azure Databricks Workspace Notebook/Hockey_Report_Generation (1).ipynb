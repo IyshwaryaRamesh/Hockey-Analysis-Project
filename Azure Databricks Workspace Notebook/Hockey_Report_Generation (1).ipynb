{
 "cells": [
  {
   "cell_type": "code",
   "execution_count": 0,
   "metadata": {
    "application/vnd.databricks.v1+cell": {
     "cellMetadata": {
      "byteLimit": 2048000,
      "rowLimit": 10000
     },
     "inputWidgets": {},
     "nuid": "9d6b898e-5cb8-42a7-a4de-02d6cdd13098",
     "showTitle": false,
     "tableResultSettingsMap": {},
     "title": ""
    }
   },
   "outputs": [],
   "source": [
    "# Read all cleaned tables\n",
    "dim_player = spark.read.option(\"header\", True).csv(\"/mnt/mount2/dim_player\")\n",
    "dim_country = spark.read.option(\"header\", True).csv(\"/mnt/mount2/dim_country\")\n",
    "dim_club = spark.read.option(\"header\", True).csv(\"/mnt/mount2/dim_club\")\n",
    "fact_player = spark.read.option(\"header\", True).csv(\"/mnt/mount2/fact_player_statistics\")\n",
    "dim_match_type = spark.read.option(\"header\", True).csv(\"/mnt/mount2/dim_match_type\")"
   ]
  },
  {
   "cell_type": "code",
   "execution_count": 0,
   "metadata": {
    "application/vnd.databricks.v1+cell": {
     "cellMetadata": {
      "byteLimit": 2048000,
      "rowLimit": 10000
     },
     "inputWidgets": {},
     "nuid": "43f0bae1-8eb7-4276-85e8-d477c3ad237a",
     "showTitle": false,
     "tableResultSettingsMap": {},
     "title": ""
    }
   },
   "outputs": [
    {
     "output_type": "execute_result",
     "data": {
      "text/plain": [
       "True"
      ]
     },
     "execution_count": 2,
     "metadata": {},
     "output_type": "execute_result"
    }
   ],
   "source": [
    "# output mount point generation\n",
    "configs = {\n",
    "  \"fs.azure.account.key.adlsstoragehockey.blob.core.windows.net\": \"clFz+IqyE3a2urx/PnxFLcfk8vwUclZTGvY9GcGjVzI+t2/d6RSpUjGqaHIhEUyahCPGtmF+d4zL+AStz2XpCQ==\"\n",
    "}\n",
    "dbutils.fs.mount(\n",
    "  source = \"wasbs://report@adlsstoragehockey.blob.core.windows.net/\",\n",
    "  mount_point = \"/mnt/mount3\",\n",
    "  extra_configs=configs\n",
    ")"
   ]
  },
  {
   "cell_type": "markdown",
   "metadata": {
    "application/vnd.databricks.v1+cell": {
     "cellMetadata": {},
     "inputWidgets": {},
     "nuid": "27dc53da-59d0-404f-b999-b0b86a7f3e91",
     "showTitle": false,
     "tableResultSettingsMap": {},
     "title": ""
    }
   },
   "source": [
    "REPORT 1: Player Report with Country & Club Info\n"
   ]
  },
  {
   "cell_type": "code",
   "execution_count": 0,
   "metadata": {
    "application/vnd.databricks.v1+cell": {
     "cellMetadata": {
      "byteLimit": 2048000,
      "rowLimit": 10000
     },
     "inputWidgets": {},
     "nuid": "cd7f87fa-0bec-45a6-8dad-16dd007a2397",
     "showTitle": false,
     "tableResultSettingsMap": {},
     "title": ""
    }
   },
   "outputs": [],
   "source": [
    "player_report = dim_player \\\n",
    "    .select(\"Player_ID\", \"Player Name\", \"Country_ID\", \"Club_ID\") \\\n",
    "    .join(dim_country.select(\"Country_ID\", \"Country_Name\"), on=\"Country_ID\", how=\"left\") \\\n",
    "    .join(dim_club.select(\"Club_ID\", \"Club_Name\"), on=\"Club_ID\", how=\"left\") \\\n",
    "    .select(\"Player_ID\", \"Player Name\", \"Country_Name\", \"Club_Name\")\n",
    "\n",
    "player_report.write.option(\"header\", True).mode(\"overwrite\").csv(\"/mnt/mount3/player_country_club_report\")"
   ]
  },
  {
   "cell_type": "markdown",
   "metadata": {
    "application/vnd.databricks.v1+cell": {
     "cellMetadata": {},
     "inputWidgets": {},
     "nuid": "f90ac762-92cf-4b54-b769-d8bfd34704e9",
     "showTitle": false,
     "tableResultSettingsMap": {},
     "title": ""
    }
   },
   "source": [
    "REPORT 2: Player with Max Appearances in International Matches"
   ]
  },
  {
   "cell_type": "code",
   "execution_count": 0,
   "metadata": {
    "application/vnd.databricks.v1+cell": {
     "cellMetadata": {
      "byteLimit": 2048000,
      "rowLimit": 10000
     },
     "inputWidgets": {},
     "nuid": "9963d6e3-2e12-4691-9b32-1f3cb45dc54e",
     "showTitle": false,
     "tableResultSettingsMap": {},
     "title": ""
    }
   },
   "outputs": [],
   "source": [
    "from pyspark.sql.functions import col, desc"
   ]
  },
  {
   "cell_type": "code",
   "execution_count": 0,
   "metadata": {
    "application/vnd.databricks.v1+cell": {
     "cellMetadata": {
      "byteLimit": 2048000,
      "rowLimit": 10000
     },
     "inputWidgets": {},
     "nuid": "1f0a7843-98db-41f0-be0c-e986961613ac",
     "showTitle": false,
     "tableResultSettingsMap": {},
     "title": ""
    }
   },
   "outputs": [],
   "source": [
    "# Filter International Matches\n",
    "fact_with_match = fact_player \\\n",
    "    .join(dim_match_type.select(\"Match_Type_ID\", \"Match_Name\"), on=\"Match_Type_ID\", how=\"left\") \\\n",
    "    .filter(col(\"Match_Name\") == \"International\")\n",
    "\n",
    "# Group and find max appearances\n",
    "max_appearance = fact_with_match.groupBy(\"Player_ID\").agg({\"Appearances\": \"sum\"}) \\\n",
    "    .withColumnRenamed(\"sum(Appearances)\", \"Total_Appearances\")\n",
    "\n",
    "# Get player with max appearances\n",
    "from pyspark.sql.functions import max as max_\n",
    "max_value = max_appearance.agg(max_(\"Total_Appearances\")).first()[0]\n",
    "\n",
    "top_players = max_appearance.filter(col(\"Total_Appearances\") == max_value) \\\n",
    "    .join(dim_player.select(\"Player_ID\", \"Player Name\"), on=\"Player_ID\", how=\"left\")\n",
    "\n",
    "top_players.write.option(\"header\", True).mode(\"overwrite\").csv(\"/mnt/mount3/max_international_appearance\")"
   ]
  },
  {
   "cell_type": "markdown",
   "metadata": {
    "application/vnd.databricks.v1+cell": {
     "cellMetadata": {},
     "inputWidgets": {},
     "nuid": "6357e578-1056-40c4-bdae-ad9a60070289",
     "showTitle": false,
     "tableResultSettingsMap": {},
     "title": ""
    }
   },
   "source": [
    "REPORT 3: Top 10 Goal Scorers of 2010\n"
   ]
  },
  {
   "cell_type": "code",
   "execution_count": 0,
   "metadata": {
    "application/vnd.databricks.v1+cell": {
     "cellMetadata": {
      "byteLimit": 2048000,
      "rowLimit": 10000
     },
     "inputWidgets": {},
     "nuid": "304f482b-e76d-4a5e-b0a5-731a658e30fb",
     "showTitle": false,
     "tableResultSettingsMap": {},
     "title": ""
    }
   },
   "outputs": [],
   "source": [
    "dim_time = spark.read.option(\"header\", True).csv(\"/mnt/mount2/dim_time\")"
   ]
  },
  {
   "cell_type": "code",
   "execution_count": 0,
   "metadata": {
    "application/vnd.databricks.v1+cell": {
     "cellMetadata": {
      "byteLimit": 2048000,
      "rowLimit": 10000
     },
     "inputWidgets": {},
     "nuid": "b22b0eaf-35d0-440b-b19e-9d8a1ff3d7eb",
     "showTitle": false,
     "tableResultSettingsMap": {},
     "title": ""
    }
   },
   "outputs": [],
   "source": [
    "# Filter fact_player for Year = 2010 and join with dim_player\n",
    "fact_2010 = fact_player.join(dim_time.select(\"Time_ID\", \"Year\"), on=\"Time_ID\") \\\n",
    "                       .filter(col(\"Year\") == \"2010\")\n",
    "\n",
    "top_goal_scorers_2010 = fact_2010 \\\n",
    "    .join(dim_player.select(\"Player_ID\", \"Player Name\"), on=\"Player_ID\", how=\"left\") \\\n",
    "    .select(\"Player_ID\", \"Player Name\", col(\"Goals_Scored\").cast(\"int\")) \\\n",
    "    .orderBy(desc(\"Goals_Scored\")) \\\n",
    "    .limit(10)\n",
    "\n",
    "# Save to report container\n",
    "top_goal_scorers_2010.write.option(\"header\", True).mode(\"overwrite\").csv(\"/mnt/mount3/top_10_goal_scorers_2010\")"
   ]
  },
  {
   "cell_type": "markdown",
   "metadata": {
    "application/vnd.databricks.v1+cell": {
     "cellMetadata": {},
     "inputWidgets": {},
     "nuid": "ab4a3e5d-e825-4c59-b913-6cdab525752a",
     "showTitle": false,
     "tableResultSettingsMap": {},
     "title": ""
    }
   },
   "source": [
    "REPORT 4: Top 5 Players with Most Red Cards"
   ]
  },
  {
   "cell_type": "code",
   "execution_count": 0,
   "metadata": {
    "application/vnd.databricks.v1+cell": {
     "cellMetadata": {
      "byteLimit": 2048000,
      "rowLimit": 10000
     },
     "inputWidgets": {},
     "nuid": "c4638d5a-7603-44b7-bbb2-79cd3b708a15",
     "showTitle": false,
     "tableResultSettingsMap": {},
     "title": ""
    }
   },
   "outputs": [],
   "source": [
    "top_red_card_players = fact_player \\\n",
    "    .join(dim_player.select(\"Player_ID\", \"Player Name\"), on=\"Player_ID\", how=\"left\") \\\n",
    "    .select(\"Player_ID\", \"Player Name\", col(\"Red_Card\").cast(\"int\")) \\\n",
    "    .orderBy(desc(\"Red_Card\")) \\\n",
    "    .limit(5)\n",
    "\n",
    "top_red_card_players.write.option(\"header\", True).mode(\"overwrite\").csv(\"/mnt/mount3/top_5_redcard_players\")"
   ]
  },
  {
   "cell_type": "markdown",
   "metadata": {
    "application/vnd.databricks.v1+cell": {
     "cellMetadata": {},
     "inputWidgets": {},
     "nuid": "2afbec6c-b39e-4785-9293-70fc8d951fb3",
     "showTitle": false,
     "tableResultSettingsMap": {},
     "title": ""
    }
   },
   "source": [
    "REPORT 5: Top 5 Successful Clubs (by Wins)"
   ]
  },
  {
   "cell_type": "code",
   "execution_count": 0,
   "metadata": {
    "application/vnd.databricks.v1+cell": {
     "cellMetadata": {
      "byteLimit": 2048000,
      "rowLimit": 10000
     },
     "inputWidgets": {},
     "nuid": "c08b4469-ed8b-4ed9-80a4-8c7c7ea822f1",
     "showTitle": false,
     "tableResultSettingsMap": {},
     "title": ""
    }
   },
   "outputs": [],
   "source": [
    "fact_team = spark.read.option(\"header\", True).csv(\"/mnt/mount2/fact_team_statistics\")"
   ]
  },
  {
   "cell_type": "code",
   "execution_count": 0,
   "metadata": {
    "application/vnd.databricks.v1+cell": {
     "cellMetadata": {
      "byteLimit": 2048000,
      "rowLimit": 10000
     },
     "inputWidgets": {},
     "nuid": "645a6593-468b-4bf1-a673-ce2ac8ce4cc9",
     "showTitle": false,
     "tableResultSettingsMap": {},
     "title": ""
    }
   },
   "outputs": [],
   "source": [
    "top_clubs = fact_team \\\n",
    "    .join(dim_club.select(\"Club_ID\", \"Club_Name\"), on=\"Club_ID\", how=\"left\") \\\n",
    "    .select(\"Club_Name\", col(\"Wins\").cast(\"int\")) \\\n",
    "    .groupBy(\"Club_Name\").sum(\"Wins\") \\\n",
    "    .withColumnRenamed(\"sum(Wins)\", \"Total_Wins\") \\\n",
    "    .orderBy(desc(\"Total_Wins\")) \\\n",
    "    .limit(5)\n",
    "\n",
    "top_clubs.write.option(\"header\", True).mode(\"overwrite\").csv(\"/mnt/mount3/top_5_successful_clubs\")"
   ]
  }
 ],
 "metadata": {
  "application/vnd.databricks.v1+notebook": {
   "computePreferences": null,
   "dashboards": [],
   "environmentMetadata": {
    "base_environment": "",
    "environment_version": "2"
   },
   "inputWidgetPreferences": null,
   "language": "python",
   "notebookMetadata": {
    "pythonIndentUnit": 4
   },
   "notebookName": "Hockey_Report_Generation",
   "widgets": {}
  },
  "language_info": {
   "name": "python"
  }
 },
 "nbformat": 4,
 "nbformat_minor": 0
}